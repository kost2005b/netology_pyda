{
 "cells": [
  {
   "cell_type": "code",
   "execution_count": 1,
   "metadata": {},
   "outputs": [],
   "source": [
    "from datetime import datetime"
   ]
  },
  {
   "cell_type": "code",
   "execution_count": 2,
   "metadata": {},
   "outputs": [],
   "source": [
    "from datetime import timedelta"
   ]
  },
  {
   "cell_type": "markdown",
   "metadata": {},
   "source": [
    "### Задание 1\n",
    "Напишите функцию date_range, которая возвращает список дней между датами start_date и end_date. Даты должны вводиться в формате YYYY-MM-DD."
   ]
  },
  {
   "cell_type": "code",
   "execution_count": 79,
   "metadata": {},
   "outputs": [
    {
     "name": "stdout",
     "output_type": "stream",
     "text": [
      "2019-01-01\n"
     ]
    }
   ],
   "source": [
    "start_date = '2019-01-01'\n",
    "end_date = '2019-01-01'\n",
    "\n",
    "start_date_dt = datetime.strptime(start_date, '%Y-%m-%d')\n",
    "end_date_dt = datetime.strptime(end_date, '%Y-%m-%d')\n",
    "\n",
    "def date_range():\n",
    "    \n",
    "    current_date = start_date_dt\n",
    "    \n",
    "    while current_date <= end_date_dt:\n",
    "        print(current_date.strftime('%Y-%m-%d'))\n",
    "        current_date += timedelta(days=1)\n",
    "\n",
    "date_range()"
   ]
  },
  {
   "cell_type": "markdown",
   "metadata": {},
   "source": [
    "### Задание 2\n",
    "Дополните функцию из первого задания проверкой на корректность дат. В случае неверного формата или если start_date > end_date должен возвращаться пустой список."
   ]
  },
  {
   "cell_type": "code",
   "execution_count": 80,
   "metadata": {},
   "outputs": [
    {
     "name": "stdout",
     "output_type": "stream",
     "text": [
      "2019-01-03\n",
      "2019-01-04\n",
      "2019-01-05\n",
      "2019-01-06\n"
     ]
    }
   ],
   "source": [
    "start_date_ = '2019-01-03'\n",
    "end_date_ = '2019-01-06'\n",
    "empty = []\n",
    "\n",
    "def date_range_upd():\n",
    "    breaker = 0\n",
    "    start_date_dt_ = 0\n",
    "    end_date_dt_ = 0\n",
    "    \n",
    "    try:\n",
    "        start_date_dt_ = datetime.strptime(start_date_, '%Y-%m-%d')\n",
    "        end_date_dt_ = datetime.strptime(end_date_, '%Y-%m-%d')\n",
    "        \n",
    "        1 / int(end_date_dt_ >= start_date_dt_)\n",
    "        \n",
    "    except:\n",
    "        print(empty)\n",
    "        breaker = 1\n",
    "    \n",
    "    current_date = start_date_dt_\n",
    "    \n",
    "    if breaker != 1:\n",
    "        while current_date <= end_date_dt_:\n",
    "            print(current_date.strftime('%Y-%m-%d'))\n",
    "            current_date += timedelta(days=1)\n",
    "\n",
    "\n",
    "date_range_upd()"
   ]
  },
  {
   "cell_type": "code",
   "execution_count": null,
   "metadata": {},
   "outputs": [],
   "source": []
  },
  {
   "cell_type": "markdown",
   "metadata": {},
   "source": [
    "### Задание 3\n",
    "Дан поток дат в формате YYYY-MM-DD, в которых встречаются некорректные значения:\n",
    "+ stream = [‘2018-04-02’, ‘2018-02-29’, ‘2018-19-02’]\n",
    "\n",
    "Напишите функцию, которая проверяет эти даты на корректность. Т. е. для каждой даты возвращает True (дата корректна) или False (некорректная дата)."
   ]
  },
  {
   "cell_type": "code",
   "execution_count": 81,
   "metadata": {},
   "outputs": [],
   "source": [
    "stream = ['2018-04-02', '2018-02-29', '2018-19-02']"
   ]
  },
  {
   "cell_type": "code",
   "execution_count": 82,
   "metadata": {},
   "outputs": [
    {
     "name": "stdout",
     "output_type": "stream",
     "text": [
      "True\n",
      "False\n",
      "False\n"
     ]
    }
   ],
   "source": [
    "for date in stream:\n",
    "    try: \n",
    "        datetime.strptime(date, '%Y-%m-%d')\n",
    "        print(True)\n",
    "    except:\n",
    "        print(False)"
   ]
  },
  {
   "cell_type": "markdown",
   "metadata": {},
   "source": [
    "### Задание 4\n",
    "В последнем примере поиска по словарю мы использовали 3 столбца. Напишите функцию, которая формирует словарь для поиска по n столбцам."
   ]
  },
  {
   "cell_type": "code",
   "execution_count": 153,
   "metadata": {},
   "outputs": [
    {
     "name": "stdout",
     "output_type": "stream",
     "text": [
      "введите число элементов для поиска (от 1 до 4)2\n",
      "('21', '20757')\n"
     ]
    }
   ],
   "source": [
    "line = ('21', '20757', '4', '46234')\n",
    "n = int(input('введите число элементов для поиска (от 1 до 4)'))\n",
    "cort = line[0:n]\n",
    "print(cort)"
   ]
  },
  {
   "cell_type": "code",
   "execution_count": 154,
   "metadata": {},
   "outputs": [],
   "source": [
    "def stats_csv_finder(n):\n",
    "    stats_dict_n = {}\n",
    "    with open('stats.csv') as f:\n",
    "        for line in f:\n",
    "            line = line.strip().split(',')\n",
    "            stats_dict_n[tuple(line[:n])] = line[n:]\n",
    "    return stats_dict_n"
   ]
  },
  {
   "cell_type": "code",
   "execution_count": 156,
   "metadata": {},
   "outputs": [
    {
     "name": "stdout",
     "output_type": "stream",
     "text": [
      "['4', '46234']\n"
     ]
    }
   ],
   "source": [
    "print(csv_finder(n)[cort])"
   ]
  }
 ],
 "metadata": {
  "kernelspec": {
   "display_name": "Python 3",
   "language": "python",
   "name": "python3"
  },
  "language_info": {
   "codemirror_mode": {
    "name": "ipython",
    "version": 3
   },
   "file_extension": ".py",
   "mimetype": "text/x-python",
   "name": "python",
   "nbconvert_exporter": "python",
   "pygments_lexer": "ipython3",
   "version": "3.7.3"
  }
 },
 "nbformat": 4,
 "nbformat_minor": 2
}
