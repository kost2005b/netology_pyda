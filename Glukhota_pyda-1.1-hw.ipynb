{
 "cells": [
  {
   "cell_type": "markdown",
   "metadata": {},
   "source": [
    "**Задание 1**. Даны 2 строки: *long_phrase* и *short_phrase*. \n",
    "Напишите код, который проверяет действительно ли длинная фраза *long_phrase* длиннее короткой *short_phrase*. И выводит *True* или *False* в зависимости от результата сравнения."
   ]
  },
  {
   "cell_type": "code",
   "execution_count": 19,
   "metadata": {},
   "outputs": [],
   "source": [
    "long_phrase = 'Насколько проще было бы писать программы, если бы не заказчики'\n",
    "short_phrase = '640Кб должно хватить для любых задач. Билл Гейтс (по легенде)'"
   ]
  },
  {
   "cell_type": "code",
   "execution_count": 20,
   "metadata": {},
   "outputs": [
    {
     "data": {
      "text/plain": [
       "True"
      ]
     },
     "execution_count": 20,
     "metadata": {},
     "output_type": "execute_result"
    }
   ],
   "source": [
    "len(long_phrase) > len(short_phrase)"
   ]
  },
  {
   "cell_type": "markdown",
   "metadata": {},
   "source": [
    "**Задание 2**. Дано значение объема файла в байтах. Напишите перевод этого значения в мегабайты в формате: \"*Объем файла равен 213.68Mb*\""
   ]
  },
  {
   "cell_type": "code",
   "execution_count": 22,
   "metadata": {},
   "outputs": [
    {
     "name": "stdout",
     "output_type": "stream",
     "text": [
      "Введите объем файла в байтах354346367\n",
      "Объем файла равен  337.93 Mb\n"
     ]
    }
   ],
   "source": [
    "size_in_bites = input('Введите объем файла в байтах')\n",
    "size_in_MB = round(int(size_in_bites)/1024/1024,2)\n",
    "print('Объем файла равен ',size_in_MB,'Mb')"
   ]
  },
  {
   "cell_type": "markdown",
   "metadata": {},
   "source": [
    "**Задание 3**. Разработать приложение для определения знака зодиака по дате рождения. Пример:\n",
    "\n",
    "Введите месяц: март\n",
    "\n",
    "Введите число: 6\n",
    "\n",
    "Вывод:\n",
    "Рыбы"
   ]
  },
  {
   "cell_type": "code",
   "execution_count": 5,
   "metadata": {},
   "outputs": [
    {
     "name": "stdout",
     "output_type": "stream",
     "text": [
      "Введите месяцмай\n",
      "Введите число12\n",
      "Телец\n",
      "Всё не то, чем кажется.\n"
     ]
    }
   ],
   "source": [
    "Month = input('Введите месяц')\n",
    "Day = input ('Введите число')\n",
    "if (Month=='декабрь' and int(Day)>=21) or (Month=='январь' and int(Day)<=19):\n",
    "    print('Козерог')\n",
    "elif (Month=='январь' and int(Day)>=20) or (Month=='февраль' and int(Day)<=19):\n",
    "    print('Водолей')\n",
    "elif (Month=='февраль' and int(Day)>=20) or (Month=='март' and int(Day)<=20):\n",
    "    print('Рыбы')\n",
    "elif (Month=='март' and int(Day)>=21) or (Month=='апрель' and int(Day)<=19):\n",
    "    print('Овен')\n",
    "elif (Month=='апрель' and int(Day)>=20) or (Month=='май' and int(Day)<=20):\n",
    "    print('Телец')\n",
    "elif (Month=='май' and int(Day)>=21) or (Month=='июнь' and int(Day)<=20):\n",
    "    print('Близнецы')\n",
    "elif (Month=='июнь' and int(Day)>=21) or (Month=='июль' and int(Day)<=22):\n",
    "    print('Рак')\n",
    "elif (Month=='июль' and int(Day)>=23) or (Month=='август' and int(Day)<=22):\n",
    "    print('Лев')\n",
    "elif (Month=='август' and int(Day)>=23) or (Month=='сентябрь' and int(Day)<=22):\n",
    "    print('Дева')\n",
    "elif (Month=='сентябрь' and int(Day)>=23) or (Month=='октябрь' and int(Day)<=23):\n",
    "    print('Весы')\n",
    "elif (Month=='октябрь' and int(Day)>=24) or (Month=='нобярь' and int(Day)<=22):\n",
    "    print('Скорпион')\n",
    "else:\n",
    "    print('Стрелец')\n",
    "print('Всё не то, чем кажется.')"
   ]
  },
  {
   "cell_type": "markdown",
   "metadata": {},
   "source": [
    "**Задание 4**. Нужно разработать приложение для финансового планирования.\n",
    "Приложение учитывает сколько уходит на ипотеку, \"на жизнь\" и сколько нужно отложить на пенсию.\n",
    "Пользователь вводит:\n",
    "- заработанную плату в месяц.\n",
    "- сколько процентов от ЗП уходит на ипотеку.\n",
    "- сколько процентов от ЗП уходит \"на жизнь\".\n",
    "- сколько раз приходит премия в год.\n",
    "\n",
    "Остальная часть заработанной платы откладывается на пенсию.\n",
    "\n",
    "Также пользователю приходит премия в размере зарплаты, от которой половина уходит на отпуск, а вторая половина откладывается.\n",
    "\n",
    "Программа должна учитывать сколько премий было в год.\n",
    "\n",
    "Нужно вывести сколько денег тратит пользователь на ипотеку и сколько он накопит за год.\n",
    "\n",
    "Пример:\n",
    "\n",
    "Введите заработанную плату в месяц: 100000\n",
    "\n",
    "Введите сколько процентов уходит на ипотеку: 30\n",
    "\n",
    "Введите сколько процентов уходит на жизнь: 50\n",
    "\n",
    "Введите количество премий за год: 2\n",
    "\n",
    "Вывод:\n",
    "На ипотеку было потрачено: 360000 рублей\n",
    "Было накоплено: 340000 рублей"
   ]
  },
  {
   "cell_type": "code",
   "execution_count": 18,
   "metadata": {},
   "outputs": [
    {
     "name": "stdout",
     "output_type": "stream",
     "text": [
      "Введите ЗП в месяц100000\n",
      "Введите % отчислений на ипотеку от ЗП30\n",
      "Введите : текущих расходов от ЗП50\n",
      "Введите частоту получения премий в год2\n",
      "На ипотеку было потрачено:  360000  рублей. Было накоплено:  340000  рублей\n"
     ]
    }
   ],
   "source": [
    "salary = int(input('Введите ЗП в месяц'))\n",
    "credit_fees = int(input('Введите % отчислений на ипотеку от ЗП'))\n",
    "ongoing_costs = int(input('Введите : текущих расходов от ЗП'))\n",
    "bonuses_frequency = int(input('Введите частоту получения премий в год'))\n",
    "\n",
    "fy_salary = salary * 12\n",
    "fy_credit_fees = fy_salary / 100 * credit_fees\n",
    "fy_ongoing = fy_salary / 100 * ongoing_costs\n",
    "fy_bonuses = salary * bonuses_frequency\n",
    "vacation_costs = fy_bonuses * 0.5\n",
    "savings = fy_bonuses * 0.5 + fy_salary - fy_credit_fees - fy_ongoing\n",
    "print('На ипотеку было потрачено: ',int(fy_credit_fees),' рублей. Было накоплено: ',int(savings),' рублей')"
   ]
  }
 ],
 "metadata": {
  "kernelspec": {
   "display_name": "Python 3",
   "language": "python",
   "name": "python3"
  },
  "language_info": {
   "codemirror_mode": {
    "name": "ipython",
    "version": 3
   },
   "file_extension": ".py",
   "mimetype": "text/x-python",
   "name": "python",
   "nbconvert_exporter": "python",
   "pygments_lexer": "ipython3",
   "version": "3.7.3"
  }
 },
 "nbformat": 4,
 "nbformat_minor": 2
}
