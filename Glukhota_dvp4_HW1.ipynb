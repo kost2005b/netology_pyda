{
 "cells": [
  {
   "cell_type": "code",
   "execution_count": 1,
   "metadata": {},
   "outputs": [],
   "source": [
    "import numpy as np\n",
    "import pandas as pd\n",
    "\n",
    "from sklearn.linear_model import LinearRegression"
   ]
  },
  {
   "cell_type": "markdown",
   "metadata": {},
   "source": [
    "Создадим датасэт с ценой консультации доктора в медицинском центре. \n",
    "* Укажем рост врача, стаж и число сертификатов, а также цену за консультацию, которая зависит от категории врача. \n",
    "* Категория зависит от стажа (1 категория за каждые три года стажа) и сертификатов (две звезды за сертификат). \n",
    "* Есть до 7 сертификатов, доктора работают до 26 лет в мед центре после чего уходят на заслуженную высокооплачиваемую пенсию. \n",
    "* Каждая категория добавляет 1000 у.е. стоимости консультации. Признака \"категория\" пока не будет"
   ]
  },
  {
   "cell_type": "code",
   "execution_count": 34,
   "metadata": {},
   "outputs": [
    {
     "data": {
      "text/html": [
       "<div>\n",
       "<style scoped>\n",
       "    .dataframe tbody tr th:only-of-type {\n",
       "        vertical-align: middle;\n",
       "    }\n",
       "\n",
       "    .dataframe tbody tr th {\n",
       "        vertical-align: top;\n",
       "    }\n",
       "\n",
       "    .dataframe thead th {\n",
       "        text-align: right;\n",
       "    }\n",
       "</style>\n",
       "<table border=\"1\" class=\"dataframe\">\n",
       "  <thead>\n",
       "    <tr style=\"text-align: right;\">\n",
       "      <th></th>\n",
       "      <th>height</th>\n",
       "      <th>experience</th>\n",
       "      <th>certificates</th>\n",
       "      <th>price</th>\n",
       "    </tr>\n",
       "  </thead>\n",
       "  <tbody>\n",
       "    <tr>\n",
       "      <th>0</th>\n",
       "      <td>175</td>\n",
       "      <td>10</td>\n",
       "      <td>1</td>\n",
       "      <td>5000</td>\n",
       "    </tr>\n",
       "    <tr>\n",
       "      <th>1</th>\n",
       "      <td>186</td>\n",
       "      <td>20</td>\n",
       "      <td>2</td>\n",
       "      <td>10000</td>\n",
       "    </tr>\n",
       "    <tr>\n",
       "      <th>2</th>\n",
       "      <td>192</td>\n",
       "      <td>3</td>\n",
       "      <td>1</td>\n",
       "      <td>3000</td>\n",
       "    </tr>\n",
       "    <tr>\n",
       "      <th>3</th>\n",
       "      <td>161</td>\n",
       "      <td>21</td>\n",
       "      <td>2</td>\n",
       "      <td>11000</td>\n",
       "    </tr>\n",
       "    <tr>\n",
       "      <th>4</th>\n",
       "      <td>192</td>\n",
       "      <td>21</td>\n",
       "      <td>3</td>\n",
       "      <td>13000</td>\n",
       "    </tr>\n",
       "  </tbody>\n",
       "</table>\n",
       "</div>"
      ],
      "text/plain": [
       "   height  experience  certificates  price\n",
       "0     175          10             1   5000\n",
       "1     186          20             2  10000\n",
       "2     192           3             1   3000\n",
       "3     161          21             2  11000\n",
       "4     192          21             3  13000"
      ]
     },
     "execution_count": 34,
     "metadata": {},
     "output_type": "execute_result"
    }
   ],
   "source": [
    "n_samples = 1000\n",
    "\n",
    "height = np.random.randint(150, 200, n_samples)\n",
    "experience = np.random.randint(3, 26, n_samples)\n",
    "certificates = np.random.randint(0, 4, n_samples)\n",
    "\n",
    "price = (experience // 3 + certificates * 2) * 1000\n",
    "\n",
    "df = pd.DataFrame({'height': height, 'experience': experience, 'certificates': certificates, 'price': price})\n",
    "df.head(5)"
   ]
  },
  {
   "cell_type": "markdown",
   "metadata": {},
   "source": [
    "Делаем простую модель, которая учитывает все имеющиеся факторы и считаем ошибку."
   ]
  },
  {
   "cell_type": "code",
   "execution_count": 35,
   "metadata": {},
   "outputs": [
    {
     "name": "stdout",
     "output_type": "stream",
     "text": [
      "Weights: [-2.43391332e-01  3.32860752e+02  2.00231278e+03]\n",
      "Bias: -282.2197747163682\n",
      "Error: 222.5205101427503\n"
     ]
    }
   ],
   "source": [
    "from sklearn.metrics import mean_absolute_error\n",
    "\n",
    "X = df[['height', 'experience', 'certificates']]\n",
    "y = df['price']\n",
    "model = LinearRegression().fit(X, y)\n",
    "print('Weights: {}'.format(model.coef_))\n",
    "print('Bias: {}'.format(model.intercept_))\n",
    "\n",
    "predicted = model.predict(df[['height', 'experience', 'certificates']])\n",
    "print('Error: {}'.format(mean_absolute_error(predicted, y)))"
   ]
  },
  {
   "cell_type": "code",
   "execution_count": 36,
   "metadata": {},
   "outputs": [
    {
     "data": {
      "text/plain": [
       "0.031788644306107186"
      ]
     },
     "execution_count": 36,
     "metadata": {},
     "output_type": "execute_result"
    }
   ],
   "source": [
    "median = df['price'].median()\n",
    "mean_absolute_error(predicted, y) / median"
   ]
  },
  {
   "cell_type": "markdown",
   "metadata": {},
   "source": [
    "Ошибка не критическая, но все-таки есть - 3% от медианы. Уберем рост врача"
   ]
  },
  {
   "cell_type": "code",
   "execution_count": 38,
   "metadata": {},
   "outputs": [
    {
     "name": "stdout",
     "output_type": "stream",
     "text": [
      "Weights: [ 332.87007524 2002.16843843]\n",
      "Bias: -324.6984821059341\n",
      "Error: 222.35925926694384\n"
     ]
    }
   ],
   "source": [
    "X = df[['experience', 'certificates']]\n",
    "y = df['price']\n",
    "model = LinearRegression().fit(X, y)\n",
    "print('Weights: {}'.format(model.coef_))\n",
    "print('Bias: {}'.format(model.intercept_))\n",
    "\n",
    "predicted = model.predict(df[['experience', 'certificates']])\n",
    "print('Error: {}'.format(mean_absolute_error(predicted, y)))"
   ]
  },
  {
   "cell_type": "markdown",
   "metadata": {},
   "source": [
    "Ошибка почти не изменилась. Добавляем признак \"категория\""
   ]
  },
  {
   "cell_type": "code",
   "execution_count": 39,
   "metadata": {},
   "outputs": [
    {
     "data": {
      "text/html": [
       "<div>\n",
       "<style scoped>\n",
       "    .dataframe tbody tr th:only-of-type {\n",
       "        vertical-align: middle;\n",
       "    }\n",
       "\n",
       "    .dataframe tbody tr th {\n",
       "        vertical-align: top;\n",
       "    }\n",
       "\n",
       "    .dataframe thead th {\n",
       "        text-align: right;\n",
       "    }\n",
       "</style>\n",
       "<table border=\"1\" class=\"dataframe\">\n",
       "  <thead>\n",
       "    <tr style=\"text-align: right;\">\n",
       "      <th></th>\n",
       "      <th>height</th>\n",
       "      <th>experience</th>\n",
       "      <th>certificates</th>\n",
       "      <th>price</th>\n",
       "      <th>category</th>\n",
       "    </tr>\n",
       "  </thead>\n",
       "  <tbody>\n",
       "    <tr>\n",
       "      <th>0</th>\n",
       "      <td>175</td>\n",
       "      <td>10</td>\n",
       "      <td>1</td>\n",
       "      <td>5000</td>\n",
       "      <td>5</td>\n",
       "    </tr>\n",
       "    <tr>\n",
       "      <th>1</th>\n",
       "      <td>186</td>\n",
       "      <td>20</td>\n",
       "      <td>2</td>\n",
       "      <td>10000</td>\n",
       "      <td>10</td>\n",
       "    </tr>\n",
       "    <tr>\n",
       "      <th>2</th>\n",
       "      <td>192</td>\n",
       "      <td>3</td>\n",
       "      <td>1</td>\n",
       "      <td>3000</td>\n",
       "      <td>3</td>\n",
       "    </tr>\n",
       "    <tr>\n",
       "      <th>3</th>\n",
       "      <td>161</td>\n",
       "      <td>21</td>\n",
       "      <td>2</td>\n",
       "      <td>11000</td>\n",
       "      <td>11</td>\n",
       "    </tr>\n",
       "    <tr>\n",
       "      <th>4</th>\n",
       "      <td>192</td>\n",
       "      <td>21</td>\n",
       "      <td>3</td>\n",
       "      <td>13000</td>\n",
       "      <td>13</td>\n",
       "    </tr>\n",
       "  </tbody>\n",
       "</table>\n",
       "</div>"
      ],
      "text/plain": [
       "   height  experience  certificates  price  category\n",
       "0     175          10             1   5000         5\n",
       "1     186          20             2  10000        10\n",
       "2     192           3             1   3000         3\n",
       "3     161          21             2  11000        11\n",
       "4     192          21             3  13000        13"
      ]
     },
     "execution_count": 39,
     "metadata": {},
     "output_type": "execute_result"
    }
   ],
   "source": [
    "df['category'] = df['experience'] // 3 + df['certificates'] * 2\n",
    "df.head(5)"
   ]
  },
  {
   "cell_type": "markdown",
   "metadata": {},
   "source": [
    "Используем только признак \"категория\""
   ]
  },
  {
   "cell_type": "code",
   "execution_count": 41,
   "metadata": {},
   "outputs": [
    {
     "name": "stdout",
     "output_type": "stream",
     "text": [
      "Weights: [1000.]\n",
      "Bias: -1.8189894035458565e-12\n",
      "Error: 5.259153113001958e-13\n"
     ]
    }
   ],
   "source": [
    "X = df[['category']]\n",
    "y = df['price']\n",
    "model = LinearRegression().fit(X, y)\n",
    "print('Weights: {}'.format(model.coef_))\n",
    "print('Bias: {}'.format(model.intercept_))\n",
    "\n",
    "predicted = model.predict(df[['category']])\n",
    "print('Error: {}'.format(mean_absolute_error(predicted, y)))"
   ]
  },
  {
   "cell_type": "markdown",
   "metadata": {},
   "source": [
    "То, что нужно.\n",
    "Пример получился слишком искуственным и изначально модель возвращала очень низкую ошибку, вероятно из-за низкого размаха показателей. Но все равно напрашивается важный вывод - мы можем понимать как какие-то признаки опосредованно влияют на результат, но модели нужно дать что-то более конкретное. Длина и ширина квартиры могут быть разными с равной площадью, опыт и сертификация врачей может быть разной при равной категории. Важно немного подумать за модель, чтобы она работала лучше."
   ]
  }
 ],
 "metadata": {
  "kernelspec": {
   "display_name": "Python 3",
   "language": "python",
   "name": "python3"
  },
  "language_info": {
   "codemirror_mode": {
    "name": "ipython",
    "version": 3
   },
   "file_extension": ".py",
   "mimetype": "text/x-python",
   "name": "python",
   "nbconvert_exporter": "python",
   "pygments_lexer": "ipython3",
   "version": "3.7.3"
  }
 },
 "nbformat": 4,
 "nbformat_minor": 2
}
