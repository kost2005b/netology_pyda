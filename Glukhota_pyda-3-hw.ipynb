{
 "cells": [
  {
   "cell_type": "markdown",
   "metadata": {},
   "source": [
    "## Задание 1"
   ]
  },
  {
   "cell_type": "markdown",
   "metadata": {},
   "source": [
    "Дан список вида:"
   ]
  },
  {
   "cell_type": "code",
   "execution_count": 1,
   "metadata": {},
   "outputs": [],
   "source": [
    "data = [\n",
    "    [13, 25, 23, 34],\n",
    "    [45, 32, 44, 47],\n",
    "    [12, 33, 23, 95],\n",
    "    [13, 53, 34, 35]\n",
    "]"
   ]
  },
  {
   "cell_type": "code",
   "execution_count": 2,
   "metadata": {},
   "outputs": [
    {
     "data": {
      "text/plain": [
       "103"
      ]
     },
     "execution_count": 2,
     "metadata": {},
     "output_type": "execute_result"
    }
   ],
   "source": [
    "def summator():\n",
    "    nums = []\n",
    "    for i, numbers in enumerate(data):\n",
    "        nums.append(int(numbers[i]))\n",
    "    result = sum(nums)\n",
    "    return result\n",
    "summator()"
   ]
  },
  {
   "cell_type": "markdown",
   "metadata": {},
   "source": [
    "Напишите функцию, которая возвращает сумму элементов на диагонали. Т. е. 13+32+23+35."
   ]
  },
  {
   "cell_type": "markdown",
   "metadata": {},
   "source": [
    "## Задание 2"
   ]
  },
  {
   "cell_type": "markdown",
   "metadata": {},
   "source": [
    "Дан список чисел, часть из которых имеют строковый тип или содержат буквы. Напишите функцию, которая возвращает сумму квадратов элементов, которые могут быть числами."
   ]
  },
  {
   "cell_type": "code",
   "execution_count": 3,
   "metadata": {},
   "outputs": [],
   "source": [
    "data_2 = [1, '5', 'abc', 20, '2']"
   ]
  },
  {
   "cell_type": "code",
   "execution_count": 11,
   "metadata": {},
   "outputs": [
    {
     "data": {
      "text/plain": [
       "430"
      ]
     },
     "execution_count": 11,
     "metadata": {},
     "output_type": "execute_result"
    }
   ],
   "source": [
    "def sum_of_squareds():\n",
    "    squareds = []\n",
    "    for numerals in data_2:\n",
    "        if type(numerals) == int or numerals.isdigit():\n",
    "            squareds.append(int(numerals) ** 2)\n",
    "        else:\n",
    "            continue\n",
    "    result = sum(squareds)\n",
    "    return result\n",
    "sum_of_squareds()"
   ]
  },
  {
   "cell_type": "markdown",
   "metadata": {},
   "source": [
    "## Задание 3"
   ]
  },
  {
   "cell_type": "markdown",
   "metadata": {},
   "source": [
    "Напишите функцию, возвращающую сумму первых n чисел Фибоначчи."
   ]
  },
  {
   "cell_type": "code",
   "execution_count": 68,
   "metadata": {},
   "outputs": [
    {
     "name": "stdout",
     "output_type": "stream",
     "text": [
      "Введите желаемую длину ряда Фибоначчи: 10\n",
      "\n",
      "Сумма первых  10 чисел ряда Фибоначчи равна  143\n"
     ]
    }
   ],
   "source": [
    "def fibonacci_calculator():\n",
    "    lenght = int(input('Введите желаемую длину ряда Фибоначчи: '))\n",
    "    fibonacci = [1, 1]\n",
    "\n",
    "    while len(fibonacci) < lenght:\n",
    "        fibonacci.append(fibonacci[(len(fibonacci)-1)] + fibonacci[(len(fibonacci)-2)])\n",
    "    #print(fibonacci)\n",
    "    #print(len(fibonacci))\n",
    "    print('\\nСумма первых ', lenght, 'чисел ряда Фибоначчи равна ', sum(fibonacci))\n",
    "fibonacci_calculator()"
   ]
  },
  {
   "cell_type": "markdown",
   "metadata": {},
   "source": [
    "## Задание 4"
   ]
  },
  {
   "cell_type": "markdown",
   "metadata": {},
   "source": [
    "Дан набор данных об обучении студентов на курсе программирования, который содержит: \n",
    "1) имя\n",
    "2) фамилию \n",
    "3) пол \n",
    "4) наличие у студента опыта в программировании \n",
    "5) набор оценок за домашние работы \n",
    "6) оценку за итоговую работу.\n",
    "\n",
    "Напишите программу, которая будет принимать команду от пользователя и возвращать соотвествующий результат.\n",
    "Список команд: \n",
    "1 - вывести на экран среднюю оценку за все ДЗ по группе и вывести на экран среднюю оценку за экзамен по группе;\n",
    "2 - вывести среднюю оценку за ДЗ и за экзамен по группе в разрезе пола студентов\n",
    "3 - вывести среднюю оценку за ДЗ и за экзамен в разрезе наличия опыта в программировании у студентов.\n",
    "\n",
    "Прогрмма должна быть полностью декомпозирована на функции (кроме объявления функций и вызова итоговой функции в реализации ничего быть не должно)."
   ]
  },
  {
   "cell_type": "code",
   "execution_count": 58,
   "metadata": {},
   "outputs": [],
   "source": [
    "students_list = [\n",
    "    {'name': 'Василий', 'surname': 'Теркин', 'sex': 'м', 'program_exp': True, 'grade': [8, 8, 9, 10, 9], 'exam': 9},\n",
    "    {'name': 'Мария', 'surname': 'Павлова', 'sex': 'ж', 'program_exp': True, 'grade': [7, 8, 9, 7, 9], 'exam': 8},\n",
    "    {'name': 'Ирина', 'surname': 'Андреева', 'sex': 'ж', 'program_exp': True, 'grade': [10, 9, 8, 10, 10], 'exam': 10},\n",
    "    {'name': 'Татьяна', 'surname': 'Сидорова', 'sex': 'ж', 'program_exp': True, 'grade': [7, 8, 8, 9, 8], 'exam': 8},\n",
    "    {'name': 'Иван', 'surname': 'Васильев', 'sex': 'ж', 'program_exp': True, 'grade': [9, 8, 9, 6, 9], 'exam': 10},\n",
    "    {'name': 'Роман', 'surname': 'Золотарев', 'sex': 'ж', 'program_exp': False, 'grade': [8, 9, 9, 6, 9], 'exam': 10}\n",
    "]"
   ]
  },
  {
   "cell_type": "code",
   "execution_count": 90,
   "metadata": {},
   "outputs": [
    {
     "name": "stdout",
     "output_type": "stream",
     "text": [
      "Желаете узнать средний балл по группе за ДЗ и за экзамен? (да/нет) да\n",
      "Желаете узнать средний балл в разрезе пола студентов за ДЗ и за экзамен? (да/нет) да\n",
      "Желаете узнать средний балл в разрезе опыта студентов за ДЗ и за экзамен? (да/нет) да\n",
      "\n",
      "Средний балл по группе за ДЗ составляет  8.43  баллов!\n",
      "Средний балл по группе за экзамен составляет  9.17  баллов!\n",
      "\n",
      "Средний балл для парней за ДЗ составляет  8.8  баллов, а для девушек -  8.36  баллов!\n",
      "Средний балл для парней за экзамен составляет  9.0  баллов, а для девушек -  9.2  баллов!\n",
      "\n",
      "Средний балл для опытных в программировании студентов за ДЗ составляет  8.48  баллов, а для неопытных -  8.2  баллов!\n",
      "Средний балл для опытных в программировании студентов за экзамен составляет  9.0  баллов, а для неопытных -  10.0  баллов!\n"
     ]
    }
   ],
   "source": [
    "def average_points():\n",
    "    trigger_1 = input('Желаете узнать средний балл по группе за ДЗ и за экзамен? (да/нет) ')\n",
    "    trigger_2 = input('Желаете узнать средний балл в разрезе пола студентов за ДЗ и за экзамен? (да/нет) ')\n",
    "    trigger_3 = input('Желаете узнать средний балл в разрезе опыта студентов за ДЗ и за экзамен? (да/нет) ')\n",
    "    \n",
    "    def average_points_by_group():\n",
    "        points_hw = []\n",
    "        points_exam = []\n",
    "        for students in students_list:\n",
    "            for pnts_hw in students['grade']:\n",
    "                points_hw.append(pnts_hw)\n",
    "            points_exam.append(students.get('exam'))\n",
    "        average_pts_hw_group = round(sum(points_hw)/len(points_hw),2)\n",
    "        average_pts_exam_group = round(sum(points_exam)/len(points_exam),2)\n",
    "        print('\\nСредний балл по группе за ДЗ составляет ', average_pts_hw_group, ' баллов!')\n",
    "        print('Средний балл по группе за экзамен составляет ', average_pts_exam_group, ' баллов!')\n",
    "\n",
    "    def average_points_by_sex():\n",
    "        points_hw_male = []\n",
    "        points_hw_female = []\n",
    "        points_exam_male = []\n",
    "        points_exam_female = []\n",
    "        for students in students_list:\n",
    "            if students['sex'] == 'м':\n",
    "                for pnts_hw in students['grade']:\n",
    "                    points_hw_male.append(pnts_hw)\n",
    "                points_exam_male.append(students.get('exam'))\n",
    "            else:\n",
    "                for pnts_hw in students['grade']:\n",
    "                    points_hw_female.append(pnts_hw)\n",
    "                points_exam_female.append(students.get('exam'))\n",
    "        average_pts_hw_male = round(sum(points_hw_male)/len(points_hw_male),2)\n",
    "        average_pts_hw_female = round(sum(points_hw_female)/len(points_hw_female),2)\n",
    "        average_pts_exam_male = round(sum(points_exam_male)/len(points_exam_male),2)\n",
    "        average_pts_exam_female = round(sum(points_exam_female)/len(points_exam_female),2)\n",
    "        print('\\nСредний балл для парней за ДЗ составляет ', average_pts_hw_male, ' баллов'\n",
    "             ', а для девушек - ', average_pts_hw_female, ' баллов!')\n",
    "        print('Средний балл для парней за экзамен составляет ', average_pts_exam_male, ' баллов'\n",
    "             ', а для девушек - ', average_pts_exam_female, ' баллов!')\n",
    "\n",
    "    def average_points_by_experience():\n",
    "        points_hw_exp = []\n",
    "        points_hw_noexp = []\n",
    "        points_exam_exp = []\n",
    "        points_exam_noexp = []\n",
    "        for students in students_list:\n",
    "            if int(students['program_exp']) == 1:\n",
    "                for pnts_hw in students['grade']:\n",
    "                    points_hw_exp.append(pnts_hw)\n",
    "                points_exam_exp.append(students.get('exam'))\n",
    "            else:\n",
    "                for pnts_hw in students['grade']:\n",
    "                    points_hw_noexp.append(pnts_hw)\n",
    "                points_exam_noexp.append(students.get('exam'))\n",
    "        average_pts_hw_exp = round(sum(points_hw_exp)/len(points_hw_exp),2)\n",
    "        average_pts_hw_noexp = round(sum(points_hw_noexp)/len(points_hw_noexp),2)\n",
    "        average_pts_exam_exp = round(sum(points_exam_exp)/len(points_exam_exp),2)\n",
    "        average_pts_exam_noexp = round(sum(points_exam_noexp)/len(points_exam_noexp),2)\n",
    "        print('\\nСредний балл для опытных в программировании студентов за ДЗ составляет ', average_pts_hw_exp, ' баллов'\n",
    "             ', а для неопытных - ', average_pts_hw_noexp, ' баллов!')\n",
    "        print('Средний балл для опытных в программировании студентов за экзамен составляет ', average_pts_exam_exp, ' баллов'\n",
    "             ', а для неопытных - ', average_pts_exam_noexp, ' баллов!')\n",
    "    \n",
    "    if trigger_1 == 'да':\n",
    "        average_points_by_group()\n",
    "    \n",
    "    if trigger_2 == 'да':\n",
    "        average_points_by_sex()\n",
    "        \n",
    "    if trigger_3 == 'да':\n",
    "        average_points_by_experience()\n",
    "        \n",
    "    if trigger_1 != 'да' and trigger_2 != 'да' and trigger_3 != 'да':\n",
    "        print('\\nА ведь там были хорошие оценки...')\n",
    "\n",
    "average_points()"
   ]
  },
  {
   "cell_type": "code",
   "execution_count": null,
   "metadata": {},
   "outputs": [],
   "source": [
    "#def average_points_by_group():\n",
    "#    trigger = input('Желаете узнать средний балл по группе за ДЗ и за экзамен? (да/нет) ')\n",
    "#    if trigger == 'да':\n",
    "#        points_hw = []\n",
    "#        points_exam = []\n",
    "#        for students in students_list:\n",
    "#            for pnts_hw in students['grade']:\n",
    "#                points_hw.append(pnts_hw)\n",
    "#            points_exam.append(students.get('exam'))\n",
    "#        #print(points_hw)\n",
    "#        #print(points_exam)\n",
    "#        print('\\nСредний балл по группе за ДЗ составляет ', round(sum(points_hw)/len(points_hw),2), ' баллов!')\n",
    "#        print('Средний балл по группе за экзамен составляет ', round(sum(points_exam)/len(points_exam),2), ' баллов!')\n",
    "#    else:\n",
    "#        print('\\nА ведь там были хорошие оценки...')\n",
    "#average_points_by_group()\n",
    "\n",
    "#def average_points_by_sex():\n",
    "#    trigger_2 = input('Желаете узнать средний балл в разрезе пола студентов за ДЗ и за экзамен? (да/нет) ')\n",
    "#    if trigger_2 == 'да':\n",
    "#        points_hw_male = []\n",
    "#        points_hw_female = []\n",
    "#        points_exam_male = []\n",
    "#        points_exam_female = []\n",
    "#        for students in students_list:\n",
    "#            if students['sex'] == 'м':\n",
    "#                for pnts_hw in students['grade']:\n",
    "#                    points_hw_male.append(pnts_hw)\n",
    "#                points_exam_male.append(students.get('exam'))\n",
    "#            else:\n",
    "#                for pnts_hw in students['grade']:\n",
    "#                    points_hw_female.append(pnts_hw)\n",
    "#                points_exam_female.append(students.get('exam'))\n",
    "#        print('\\nСредний балл для парней за ДЗ составляет ', round(sum(points_hw_male)/len(points_hw_male),2), ' баллов'\n",
    "#             ', а для девушек - ', round(sum(points_hw_female)/len(points_hw_female),2), ' баллов!')\n",
    "#        print('Средний балл для парней за экзамен составляет ', round(sum(points_exam_male)/len(points_exam_male),2), ' баллов'\n",
    "#             ', а для девушек - ', round(sum(points_exam_female)/len(points_exam_female),2), ' баллов!')\n",
    "#   else:\n",
    "#       print('\\nА ведь там были хорошие оценки...')\n",
    "#average_points_by_sex()\n",
    "\n",
    "#def average_points_by_experience():\n",
    "#    trigger_3 = input('Желаете узнать средний балл в разрезе опыта студентов за ДЗ и за экзамен? (да/нет) ')\n",
    "#    if trigger_3 == 'да':\n",
    "#        points_hw_exp = []\n",
    "#        points_hw_noexp = []\n",
    "#        points_exam_exp = []\n",
    "#        points_exam_noexp = []\n",
    "#        for students in students_list:\n",
    "#            if int(students['program_exp']) == 1:\n",
    "#                for pnts_hw in students['grade']:\n",
    "#                    points_hw_exp.append(pnts_hw)\n",
    "#                points_exam_exp.append(students.get('exam'))\n",
    "#            else:\n",
    "#                for pnts_hw in students['grade']:\n",
    "#                    points_hw_noexp.append(pnts_hw)\n",
    "#                points_exam_noexp.append(students.get('exam'))\n",
    "#        print('\\nСредний балл для опытных студентов за ДЗ составляет ', round(sum(points_hw_exp)/len(points_hw_exp),2), ' баллов'\n",
    "#             ', а для неопытных - ', round(sum(points_hw_noexp)/len(points_hw_noexp),2), ' баллов!')\n",
    "#        print('Средний балл для опытных студентов за экзамен составляет ', round(sum(points_exam_exp)/len(points_exam_exp),2), ' баллов'\n",
    "#             ', а для неопытных - ', round(sum(points_exam_noexp)/len(points_exam_noexp),2), ' баллов!')\n",
    "#    else:\n",
    "#       print('\\nА ведь там были хорошие оценки...')\n",
    "#average_points_by_experience()"
   ]
  }
 ],
 "metadata": {
  "kernelspec": {
   "display_name": "Python 3",
   "language": "python",
   "name": "python3"
  },
  "language_info": {
   "codemirror_mode": {
    "name": "ipython",
    "version": 3
   },
   "file_extension": ".py",
   "mimetype": "text/x-python",
   "name": "python",
   "nbconvert_exporter": "python",
   "pygments_lexer": "ipython3",
   "version": "3.7.3"
  }
 },
 "nbformat": 4,
 "nbformat_minor": 2
}
